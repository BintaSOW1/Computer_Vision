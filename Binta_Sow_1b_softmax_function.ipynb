{
  "cells": [
    {
      "cell_type": "code",
      "execution_count": null,
      "metadata": {
        "id": "hqnl0AKVXIA4"
      },
      "outputs": [],
      "source": [
        "import torch\n",
        "from torch import Tensor"
      ]
    },
    {
      "cell_type": "markdown",
      "metadata": {
        "id": "Q8AfF5zJ0D4W"
      },
      "source": [
        "# Tutorial 1b: Softmax Function"
      ]
    },
    {
      "cell_type": "markdown",
      "metadata": {
        "id": "g1DV-MS2bxYq"
      },
      "source": [
        "**Question:** To have the logistic regressor output probabilities, they need to be processed through a softmax layer. Implement a softmax layer yourself. What numerical issues may arise in this layer? How can you solve them? Use the testing code to confirm you implemented it correctly."
      ]
    },
    {
      "cell_type": "code",
      "execution_count": null,
      "metadata": {
        "id": "g18UkYba0D4c"
      },
      "outputs": [],
      "source": [
        "logits = torch.rand((1, 20)) + 100"
      ]
    },
    {
      "cell_type": "code",
      "source": [
        "print(logits)"
      ],
      "metadata": {
        "colab": {
          "base_uri": "https://localhost:8080/"
        },
        "id": "ELVsvCdA4-Kz",
        "outputId": "30827377-f0b5-4b2d-d051-9072f8890527"
      },
      "execution_count": null,
      "outputs": [
        {
          "output_type": "stream",
          "name": "stdout",
          "text": [
            "tensor([[100.0316, 100.4614, 100.7729, 100.1885, 100.0520, 100.3409, 100.2897,\n",
            "         100.1420, 100.0357, 100.6357, 100.9895, 100.4577, 100.5971, 100.7787,\n",
            "         100.4909, 100.5415, 100.9061, 100.0407, 100.1753, 100.3512]])\n"
          ]
        }
      ]
    },
    {
      "cell_type": "code",
      "execution_count": null,
      "metadata": {
        "id": "Dj4X2PnOfK9W"
      },
      "outputs": [],
      "source": [
        "def bad_softmax(x: Tensor) -> Tensor:\n",
        "    return torch.exp(x) / torch.sum(torch.exp(logits), axis=0)"
      ]
    },
    {
      "cell_type": "code",
      "execution_count": null,
      "metadata": {
        "id": "w13dwrKV0D4c",
        "colab": {
          "base_uri": "https://localhost:8080/"
        },
        "outputId": "58ce5b8f-7922-42da-9ccd-eaa1812a72c6"
      },
      "outputs": [
        {
          "output_type": "execute_result",
          "data": {
            "text/plain": [
              "tensor(nan)"
            ]
          },
          "metadata": {},
          "execution_count": 5
        }
      ],
      "source": [
        "torch.sum(bad_softmax(logits))"
      ]
    },
    {
      "cell_type": "code",
      "execution_count": null,
      "metadata": {
        "id": "YEzdMLSC0D4c"
      },
      "outputs": [],
      "source": [
        "def good_softmax(x: Tensor) -> Tensor:\n",
        "    ###########################################################################\n",
        "    # TODO: Implement a more stable way to compute softmax                    #\n",
        "    ###########################################################################\n",
        "    x_exp = torch.exp(x - torch.max(x))\n",
        "    partition = x_exp.sum(1, keepdims=True)\n",
        "    print(x_exp / partition)\n",
        "    \n",
        "    return x_exp / partition\n"
      ]
    },
    {
      "cell_type": "code",
      "execution_count": null,
      "metadata": {
        "id": "exdqqHBW0D4d",
        "colab": {
          "base_uri": "https://localhost:8080/"
        },
        "outputId": "5c571ed5-a1da-486a-fb79-82b25fe80eae"
      },
      "outputs": [
        {
          "output_type": "stream",
          "name": "stdout",
          "text": [
            "tensor([[0.0326, 0.0502, 0.0685, 0.0382, 0.0333, 0.0445, 0.0423, 0.0365, 0.0328,\n",
            "         0.0597, 0.0851, 0.0500, 0.0575, 0.0689, 0.0517, 0.0544, 0.0783, 0.0329,\n",
            "         0.0377, 0.0449]])\n"
          ]
        },
        {
          "output_type": "execute_result",
          "data": {
            "text/plain": [
              "tensor(1.0000)"
            ]
          },
          "metadata": {},
          "execution_count": 7
        }
      ],
      "source": [
        "torch.sum(good_softmax(logits))"
      ]
    },
    {
      "cell_type": "code",
      "source": [],
      "metadata": {
        "id": "YsHMK0BErLUr"
      },
      "execution_count": null,
      "outputs": []
    },
    {
      "cell_type": "markdown",
      "metadata": {
        "id": "4C_J5S0RScXJ"
      },
      "source": [
        "Because of numerical issues like the one you just experiences, PyTorch code typically uses a `LogSoftmax` layer."
      ]
    },
    {
      "cell_type": "markdown",
      "metadata": {
        "id": "lgStX-ctjIms"
      },
      "source": [
        "**Question [optional]:** PyTorch automatically computes the backpropagation gradient of a module for you. However, it can be instructive to derive and implement your own backward function. Try and implement the backward function for your softmax module and confirm that it is correct."
      ]
    },
    {
      "cell_type": "code",
      "source": [
        "class Softmax(torch.nn.Module):\n",
        "    def forward(self, x):\n",
        "        exp = torch.exp(x - x.max(dim=-1, keepdim=True).values)\n",
        "        softmax = exp / exp.sum(dim=-1, keepdim=True)\n",
        "        return softmax\n",
        "    \n",
        "    def backward(self, grad_output):\n",
        "        # Compute the gradient of the loss with respect to the softmax output.\n",
        "        softmax_output = self.forward_output\n",
        "        grad_softmax = softmax_output * grad_output - softmax_output * (softmax_output * grad_output).sum(dim=-1, keepdim=True)\n",
        "        grad_softmax = softmax_output * grad_output*(1- softmax_output).sum(dim=-1, keepdim=True)\n",
        "\n",
        "        # Return the gradient of the loss with respect to the input.\n",
        "        return grad_softmax\n",
        "\n",
        "\n",
        "\n"
      ],
      "metadata": {
        "id": "X_OvWZsE1jjx"
      },
      "execution_count": null,
      "outputs": []
    }
  ],
  "metadata": {
    "accelerator": "GPU",
    "colab": {
      "provenance": []
    },
    "kernelspec": {
      "display_name": "convnet_tutorials",
      "language": "python",
      "name": "convnet_tutorials"
    },
    "language_info": {
      "codemirror_mode": {
        "name": "ipython",
        "version": 3
      },
      "file_extension": ".py",
      "mimetype": "text/x-python",
      "name": "python",
      "nbconvert_exporter": "python",
      "pygments_lexer": "ipython3",
      "version": "3.9.10"
    }
  },
  "nbformat": 4,
  "nbformat_minor": 0
}