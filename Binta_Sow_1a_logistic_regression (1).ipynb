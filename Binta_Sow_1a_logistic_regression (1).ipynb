{
  "cells": [
    {
      "cell_type": "code",
      "execution_count": null,
      "metadata": {
        "id": "hqnl0AKVXIA4"
      },
      "outputs": [],
      "source": [
        "import matplotlib.pyplot\n",
        "import numpy.random\n",
        "import torch.utils.data\n",
        "import torchvision\n",
        "from torch import Tensor\n",
        "from torch.nn import Module\n",
        "from torch.utils.data import DataLoader\n",
        "from torchvision.datasets import MNIST\n",
        "from torchvision.transforms import ToTensor"
      ]
    },
    {
      "cell_type": "markdown",
      "metadata": {
        "id": "mCt-frpFH8oN"
      },
      "source": [
        "# Tutorial 1a. Logistic Regression\n",
        "\n",
        "In the first tutorial, we are going to train a logistic regressor on the MNIST dataset of handwritten digits. Next, we will turn this logistic regressor into a non-linear convolutional network."
      ]
    },
    {
      "cell_type": "code",
      "execution_count": null,
      "metadata": {
        "id": "dzfEE578uSNp"
      },
      "outputs": [],
      "source": [
        "if torch.cuda.is_available():\n",
        "    DEVICE = \"cuda:0\"\n",
        "else:\n",
        "    DEVICE = \"cpu\""
      ]
    },
    {
      "cell_type": "markdown",
      "metadata": {
        "id": "o6BMI414Rszt"
      },
      "source": [
        "## Loading Datasets\n",
        "\n",
        "The following code will load the MNIST dataset. Run it and inspect some of the images and their labels to confirm they are correct."
      ]
    },
    {
      "cell_type": "code",
      "execution_count": null,
      "metadata": {
        "id": "GX_ky5qC--uv"
      },
      "outputs": [],
      "source": [
        "train_dataloader = DataLoader(\n",
        "    dataset=MNIST(\n",
        "        root=\"/tmp/mnist\",\n",
        "        train=True,\n",
        "        transform=ToTensor(),\n",
        "        download=True,\n",
        "    ),\n",
        "    batch_size=64,\n",
        "    shuffle=True,\n",
        ")\n",
        "\n",
        "test_dataloader = DataLoader(\n",
        "    dataset=MNIST(\n",
        "        root=\"/tmp/mnist\",\n",
        "        train=False,\n",
        "        transform=ToTensor(),\n",
        "        download=True,\n",
        "    ),\n",
        "    batch_size=64,\n",
        "    shuffle=False,\n",
        ")"
      ]
    },
    {
      "cell_type": "code",
      "execution_count": null,
      "metadata": {
        "id": "E8dy7-kBHwco",
        "colab": {
          "base_uri": "https://localhost:8080/",
          "height": 446
        },
        "outputId": "2e1b6ee5-e8a8-45d8-dae8-7c522175d63e"
      },
      "outputs": [
        {
          "output_type": "execute_result",
          "data": {
            "text/plain": [
              "(-0.5, 27.5, 27.5, -0.5)"
            ]
          },
          "metadata": {},
          "execution_count": 37
        },
        {
          "output_type": "display_data",
          "data": {
            "text/plain": [
              "<Figure size 640x480 with 1 Axes>"
            ],
            "image/png": "[encoded data removed]"
          },
          "metadata": {}
        }
      ],
      "source": [
        "image, target = [*test_dataloader][0]\n",
        "\n",
        "random_index = numpy.random.randint(0, 64)\n",
        "\n",
        "image, target = image[random_index, 0], target[random_index]\n",
        "\n",
        "matplotlib.pyplot.imshow(\n",
        "    image, \n",
        "    cmap=\"gray\", \n",
        "    interpolation=\"nearest\",\n",
        ")\n",
        "\n",
        "matplotlib.pyplot.title(f\"target = {target}\")\n",
        "matplotlib.pyplot.axis(\"off\")"
      ]
    },
    {
      "cell_type": "markdown",
      "metadata": {
        "id": "aKbXgidhWr6L"
      },
      "source": [
        "Next, we create a PyTorch dataloader for the MNIST dataset."
      ]
    },
    {
      "cell_type": "markdown",
      "metadata": {
        "id": "liekFZzvYX9E"
      },
      "source": [
        "Next, implement a logistic regression model in PyTorch. Note that a logistic regressor uses a linear transformation of the input.\n"
      ]
    },
    {
      "cell_type": "markdown",
      "metadata": {
        "id": "eJdzDxcCRszv"
      },
      "source": [
        "## Exercise 1. Logistic Regression Module"
      ]
    },
    {
      "cell_type": "code",
      "execution_count": null,
      "metadata": {
        "id": "zEw5YorSYkWF"
      },
      "outputs": [],
      "source": [
        "class LogisticRegression(Module):\n",
        "  def __init__(self, input_size: int, num_classes: int):\n",
        "    super().__init__()\n",
        "    self.linear = torch.nn.Linear(input_size, num_classes)\n",
        "\n",
        "  def forward(self, x: Tensor) -> Tensor:\n",
        "    outputs = self.linear(x)\n",
        "    return outputs"
      ]
    },
    {
      "cell_type": "code",
      "execution_count": null,
      "metadata": {
        "id": "FyZ9cUdfRszv"
      },
      "outputs": [],
      "source": [
        "module = LogisticRegression(28 * 28, 10)\n",
        "\n",
        "module = module.to(device=DEVICE)"
      ]
    },
    {
      "cell_type": "code",
      "execution_count": null,
      "metadata": {
        "id": "-Sc_n-1kRszv"
      },
      "outputs": [],
      "source": [
        "###########################################################################\n",
        "# TODO: Create criterion and optimizer here.                              #\n",
        "###########################################################################\n",
        "\n",
        "import torch\n",
        "from torch import optim\n",
        "criterion = torch.nn.CrossEntropyLoss()\n",
        "\n",
        "optimizer = optim.SGD(module.parameters(), lr=0.01, momentum=0.9, weight_decay=1e-3)"
      ]
    },
    {
      "cell_type": "markdown",
      "metadata": {
        "id": "wVd_0ACpRszw"
      },
      "source": [
        "## Training"
      ]
    },
    {
      "cell_type": "markdown",
      "metadata": {
        "id": "kqTUXDiQRszw"
      },
      "source": [
        "We will use the following generic training loop for a PyTorch model."
      ]
    },
    {
      "cell_type": "code",
      "execution_count": null,
      "metadata": {
        "id": "qVyEKl3OZLJw",
        "colab": {
          "base_uri": "https://localhost:8080/"
        },
        "outputId": "b98b1273-0a4d-4b91-c078-a607d45866b6"
      },
      "outputs": [
        {
          "output_type": "stream",
          "name": "stdout",
          "text": [
            "Train Epoch: 0 [0/60000 (0%)]\tLoss: 2.280750\n",
            "Train Epoch: 0 [32000/60000 (53%)]\tLoss: 0.439273\n",
            "Train Epoch: 1 [0/60000 (0%)]\tLoss: 0.362641\n",
            "Train Epoch: 1 [32000/60000 (53%)]\tLoss: 0.338707\n",
            "Train Epoch: 2 [0/60000 (0%)]\tLoss: 0.324068\n",
            "Train Epoch: 2 [32000/60000 (53%)]\tLoss: 0.340835\n",
            "Train Epoch: 3 [0/60000 (0%)]\tLoss: 0.315652\n",
            "Train Epoch: 3 [32000/60000 (53%)]\tLoss: 0.319818\n",
            "Train Epoch: 4 [0/60000 (0%)]\tLoss: 0.308916\n",
            "Train Epoch: 4 [32000/60000 (53%)]\tLoss: 0.293142\n"
          ]
        }
      ],
      "source": [
        "# Train the model. If everything is correct, the loss should go below 0.45.\n",
        "\n",
        "EPOCHS = 5\n",
        "\n",
        "# Exponential moving average of the loss:\n",
        "ema = None\n",
        "\n",
        "for epoch in range(EPOCHS):\n",
        "    for batch_index, (train_images, train_targets) in enumerate(train_dataloader):\n",
        "        train_images = train_images.view(-1, 28 * 28).requires_grad_().to(device=DEVICE)\n",
        "\n",
        "        train_targets = train_targets.to(device=DEVICE)\n",
        "\n",
        "        # Clear gradients w.r.t. parameters\n",
        "        optimizer.zero_grad()\n",
        "\n",
        "        # Forward pass to get output/logits\n",
        "        outputs = module(train_images)\n",
        "\n",
        "        # Calculate Loss: softmax --> cross entropy loss\n",
        "        loss = criterion(outputs, train_targets)\n",
        "\n",
        "        # Getting gradients w.r.t. parameters\n",
        "        loss.backward()\n",
        "\n",
        "        # Updates parameters:\n",
        "        optimizer.step()\n",
        "\n",
        "        # NOTE: It is important to call .item() on the loss before summing.\n",
        "        if ema is None:\n",
        "            ema = loss.item()\n",
        "        else:\n",
        "            ema += (loss.item() - ema) * 0.01\n",
        "\n",
        "        if batch_index % 500 == 0:\n",
        "            print(\n",
        "                \"Train Epoch: {} [{}/{} ({:.0f}%)]\\tLoss: {:.6f}\".format(\n",
        "                    epoch,\n",
        "                    batch_index * len(train_images),\n",
        "                    len(train_dataloader.dataset),\n",
        "                    100.0 * batch_index / len(train_dataloader),\n",
        "                    ema,\n",
        "                ),\n",
        "            )"
      ]
    },
    {
      "cell_type": "markdown",
      "metadata": {
        "id": "oN8qTuGkZ-3X"
      },
      "source": [
        "**Question:** For the model you are currently using, is there any difference between using the model in `train` mode or using it in `eval` mode? \n",
        "\n",
        "The model doesn't oprates differently for training and for evaluation.\n",
        "for example we do not use batch normalization during training which would have led us to specify that we use the training mode instead of the evaluation mode\n",
        "\n",
        "Create an SGD optimizer and us it to train the logistic regressor on the MNIST training data for a few epochs. What loss function do you need to use?\n",
        "\n",
        "The loss we need is CrossEntropyLoss\n",
        "\n"
      ]
    },
    {
      "cell_type": "markdown",
      "metadata": {
        "id": "x0QN7Mhiar7d"
      },
      "source": [
        "### Embeddings \n",
        "\n",
        "Visualize the weights of the trained model. What do you see? Why?"
      ]
    },
    {
      "cell_type": "code",
      "execution_count": null,
      "metadata": {
        "id": "H_xniXO1Rszw"
      },
      "outputs": [],
      "source": [
        "assert module.linear.weight.shape == (10, 28 * 28)"
      ]
    },
    {
      "cell_type": "code",
      "execution_count": null,
      "metadata": {
        "id": "gxletH44a4MX",
        "colab": {
          "base_uri": "https://localhost:8080/",
          "height": 257
        },
        "outputId": "2c641ee7-1a6f-47d4-ae2f-da9ac9d4ac9e"
      },
      "outputs": [
        {
          "output_type": "execute_result",
          "data": {
            "text/plain": [
              "(-0.5, 151.5, 61.5, -0.5)"
            ]
          },
          "metadata": {},
          "execution_count": 46
        },
        {
          "output_type": "display_data",
          "data": {
            "text/plain": [
              "<Figure size 640x480 with 1 Axes>"
            ],
            "image/png": "[encoded data removed]"
          },
          "metadata": {}
        }
      ],
      "source": [
        "matplotlib.pyplot.imshow(\n",
        "    numpy.transpose(\n",
        "        torchvision.utils.make_grid(\n",
        "            module.linear.cpu().weight.view(10, 1, 28, 28),\n",
        "            normalize=True,\n",
        "            nrow=5,\n",
        "        ), \n",
        "        (1, 2, 0),\n",
        "    ), \n",
        "    interpolation=\"nearest\",\n",
        ")\n",
        "\n",
        "matplotlib.pyplot.grid(False)\n",
        "matplotlib.pyplot.gca().axis(\"off\")"
      ]
    },
    {
      "cell_type": "markdown",
      "metadata": {
        "id": "IgLjhEANRszx"
      },
      "source": [
        "## Evaluation"
      ]
    },
    {
      "cell_type": "markdown",
      "metadata": {
        "id": "Lxf5NxQ6a5cT"
      },
      "source": [
        "Use the following function to measure the test accuracy of your trained model."
      ]
    },
    {
      "cell_type": "code",
      "source": [
        "print(DEVICE)"
      ],
      "metadata": {
        "colab": {
          "base_uri": "https://localhost:8080/"
        },
        "id": "st4dA2vewwxk",
        "outputId": "53bbff92-66ce-4e72-a23c-dc2cd0e147ea"
      },
      "execution_count": null,
      "outputs": [
        {
          "output_type": "stream",
          "name": "stdout",
          "text": [
            "cuda:0\n"
          ]
        }
      ]
    },
    {
      "cell_type": "code",
      "source": [
        "print(module.to(DEVICE))"
      ],
      "metadata": {
        "colab": {
          "base_uri": "https://localhost:8080/"
        },
        "id": "bGTvpkMGxe4G",
        "outputId": "8224ea68-aa74-4321-eae2-01675a76c20e"
      },
      "execution_count": null,
      "outputs": [
        {
          "output_type": "stream",
          "name": "stdout",
          "text": [
            "LogisticRegression(\n",
            "  (linear): Linear(in_features=784, out_features=10, bias=True)\n",
            ")\n"
          ]
        }
      ]
    },
    {
      "cell_type": "code",
      "execution_count": null,
      "metadata": {
        "id": "8UYWbqZYa9Qr",
        "colab": {
          "base_uri": "https://localhost:8080/"
        },
        "outputId": "e4f75ba0-f6f0-4bd2-c706-190c47ed8e0c"
      },
      "outputs": [
        {
          "output_type": "execute_result",
          "data": {
            "text/plain": [
              "0.9199"
            ]
          },
          "metadata": {},
          "execution_count": 51
        }
      ],
      "source": [
        "correct_predictions = 0\n",
        "predictions = 0\n",
        "\n",
        "# Iterate through test dataset\n",
        "for test_images, test_targets in test_dataloader:\n",
        "    test_images = test_images.view(-1, 28 * 28).to(DEVICE)\n",
        "\n",
        "    # Forward pass only to get logits/output\n",
        "    outputs = module(test_images)\n",
        "\n",
        "    # Get predictions from the maximum value\n",
        "    _, predicted = torch.max(outputs.data, 1)\n",
        "\n",
        "    predictions += test_targets.size(0)\n",
        "\n",
        "    if torch.cuda.is_available():\n",
        "        correct_predictions += (predicted.cpu() == test_targets.cpu()).sum()\n",
        "    else:\n",
        "        correct_predictions += (predicted == test_targets).sum()\n",
        "\n",
        "correct_predictions.item() / predictions"
      ]
    }
  ],
  "metadata": {
    "accelerator": "GPU",
    "colab": {
      "provenance": []
    },
    "kernelspec": {
      "display_name": "convnet_tutorials",
      "language": "python",
      "name": "convnet_tutorials"
    },
    "language_info": {
      "codemirror_mode": {
        "name": "ipython",
        "version": 3
      },
      "file_extension": ".py",
      "mimetype": "text/x-python",
      "name": "python",
      "nbconvert_exporter": "python",
      "pygments_lexer": "ipython3",
      "version": "3.9.10"
    }
  },
  "nbformat": 4,
  "nbformat_minor": 0
}